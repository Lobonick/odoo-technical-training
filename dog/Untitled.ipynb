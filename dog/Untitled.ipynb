{
 "cells": [
  {
   "cell_type": "code",
   "execution_count": 1,
   "id": "a00fbc5a-57bd-488b-b900-6cf7f9fd9f1a",
   "metadata": {},
   "outputs": [
    {
     "data": {
      "text/plain": [
       "[{'id': 1,\n",
       "  'breed': False,\n",
       "  '__last_update': datetime.datetime(2022, 8, 3, 17, 35, 42, 665534),\n",
       "  'display_name': 'dog.dog,1',\n",
       "  'create_uid': (1, 'System'),\n",
       "  'create_date': datetime.datetime(2022, 8, 3, 17, 28, 28, 772254),\n",
       "  'write_uid': (1, 'System'),\n",
       "  'write_date': datetime.datetime(2022, 8, 3, 17, 35, 42, 665534)},\n",
       " {'id': 2,\n",
       "  'breed': False,\n",
       "  '__last_update': datetime.datetime(2022, 8, 3, 17, 35, 42, 665534),\n",
       "  'display_name': 'dog.dog,2',\n",
       "  'create_uid': (1, 'System'),\n",
       "  'create_date': datetime.datetime(2022, 8, 3, 17, 28, 28, 772254),\n",
       "  'write_uid': (1, 'System'),\n",
       "  'write_date': datetime.datetime(2022, 8, 3, 17, 35, 42, 665534)},\n",
       " {'id': 3,\n",
       "  'breed': False,\n",
       "  '__last_update': datetime.datetime(2022, 8, 3, 18, 12, 5, 805379),\n",
       "  'display_name': 'dog.dog,3',\n",
       "  'create_uid': (1, 'System'),\n",
       "  'create_date': datetime.datetime(2022, 8, 3, 17, 28, 28, 772254),\n",
       "  'write_uid': (1, 'System'),\n",
       "  'write_date': datetime.datetime(2022, 8, 3, 18, 12, 5, 805379)},\n",
       " {'id': 4,\n",
       "  'breed': False,\n",
       "  '__last_update': datetime.datetime(2022, 8, 3, 17, 35, 42, 665534),\n",
       "  'display_name': 'dog.dog,4',\n",
       "  'create_uid': (1, 'System'),\n",
       "  'create_date': datetime.datetime(2022, 8, 3, 17, 28, 28, 772254),\n",
       "  'write_uid': (1, 'System'),\n",
       "  'write_date': datetime.datetime(2022, 8, 3, 17, 35, 42, 665534)},\n",
       " {'id': 5,\n",
       "  'breed': False,\n",
       "  '__last_update': datetime.datetime(2022, 8, 3, 17, 35, 42, 665534),\n",
       "  'display_name': 'dog.dog,5',\n",
       "  'create_uid': (1, 'System'),\n",
       "  'create_date': datetime.datetime(2022, 8, 3, 17, 28, 28, 772254),\n",
       "  'write_uid': (1, 'System'),\n",
       "  'write_date': datetime.datetime(2022, 8, 3, 17, 35, 42, 665534)},\n",
       " {'id': 6,\n",
       "  'breed': False,\n",
       "  '__last_update': datetime.datetime(2022, 8, 3, 17, 35, 42, 665534),\n",
       "  'display_name': 'dog.dog,6',\n",
       "  'create_uid': (1, 'System'),\n",
       "  'create_date': datetime.datetime(2022, 8, 3, 17, 28, 28, 772254),\n",
       "  'write_uid': (1, 'System'),\n",
       "  'write_date': datetime.datetime(2022, 8, 3, 17, 35, 42, 665534)}]"
      ]
     },
     "execution_count": 1,
     "metadata": {},
     "output_type": "execute_result"
    }
   ],
   "source": [
    "env[\"dog.dog\"].search_read([])"
   ]
  },
  {
   "cell_type": "code",
   "execution_count": 3,
   "id": "d5e38c81-24f3-47b8-926a-3906b65bffa9",
   "metadata": {},
   "outputs": [
    {
     "data": {
      "text/plain": [
       "[{'id': 1, 'breed': False},\n",
       " {'id': 2, 'breed': False},\n",
       " {'id': 3, 'breed': False},\n",
       " {'id': 4, 'breed': False},\n",
       " {'id': 5, 'breed': False},\n",
       " {'id': 6, 'breed': False}]"
      ]
     },
     "execution_count": 3,
     "metadata": {},
     "output_type": "execute_result"
    }
   ],
   "source": [
    "env[\"dog.dog\"].search_read([],['breed'])"
   ]
  },
  {
   "cell_type": "code",
   "execution_count": null,
   "id": "d3d218fe-0cc1-4dee-969a-4d55ac35a1fb",
   "metadata": {},
   "outputs": [],
   "source": []
  }
 ],
 "metadata": {
  "kernelspec": {
   "display_name": "Odoo-shell",
   "language": "",
   "name": "odoo"
  },
  "language_info": {
   "codemirror_mode": {
    "name": "ipython",
    "version": 3
   },
   "file_extension": ".py",
   "mimetype": "text/x-python",
   "name": "python",
   "nbconvert_exporter": "python",
   "pygments_lexer": "ipython3",
   "version": "3.8.10"
  }
 },
 "nbformat": 4,
 "nbformat_minor": 5
}
